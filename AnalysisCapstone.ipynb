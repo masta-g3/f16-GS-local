{
 "cells": [
  {
   "cell_type": "code",
   "execution_count": 2,
   "metadata": {
    "collapsed": false
   },
   "outputs": [
    {
     "ename": "ImportError",
     "evalue": "No module named 'nltk'",
     "output_type": "error",
     "traceback": [
      "\u001b[0;31m---------------------------------------------------------------------------\u001b[0m",
      "\u001b[0;31mImportError\u001b[0m                               Traceback (most recent call last)",
      "\u001b[0;32m<ipython-input-2-c709f8ac0669>\u001b[0m in \u001b[0;36m<module>\u001b[0;34m()\u001b[0m\n\u001b[1;32m      1\u001b[0m \u001b[0;31m## Import libraries\u001b[0m\u001b[0;34m\u001b[0m\u001b[0;34m\u001b[0m\u001b[0m\n\u001b[0;32m----> 2\u001b[0;31m \u001b[0;32mimport\u001b[0m \u001b[0mnltk\u001b[0m\u001b[0;34m\u001b[0m\u001b[0m\n\u001b[0m\u001b[1;32m      3\u001b[0m \u001b[0;32mimport\u001b[0m \u001b[0mstring\u001b[0m\u001b[0;34m\u001b[0m\u001b[0m\n\u001b[1;32m      4\u001b[0m \u001b[0;32mimport\u001b[0m \u001b[0mos\u001b[0m\u001b[0;34m\u001b[0m\u001b[0m\n\u001b[1;32m      5\u001b[0m \u001b[0;32mimport\u001b[0m \u001b[0mpandas\u001b[0m \u001b[0;32mas\u001b[0m \u001b[0mpd\u001b[0m\u001b[0;34m\u001b[0m\u001b[0m\n",
      "\u001b[0;31mImportError\u001b[0m: No module named 'nltk'"
     ]
    }
   ],
   "source": [
    "## Import libraries\n",
    "import nltk\n",
    "import string\n",
    "import os\n",
    "import pandas as pd\n",
    "import re\n",
    "from nltk.corpus import stopwords\n",
    "import collections\n",
    "from sklearn.feature_extraction.text import TfidfVectorizer\n",
    "from nltk.stem.porter import PorterStemmer\n",
    "from scipy.spatial.distance import cosine\n",
    "import numpy as np\n",
    "import matplotlib.pyplot as plt\n",
    "import sklearn.feature_extraction.text as text\n",
    "from sklearn import decomposition"
   ]
  },
  {
   "cell_type": "code",
   "execution_count": null,
   "metadata": {
    "collapsed": true
   },
   "outputs": [],
   "source": []
  },
  {
   "cell_type": "code",
   "execution_count": null,
   "metadata": {
    "collapsed": true
   },
   "outputs": [],
   "source": []
  },
  {
   "cell_type": "markdown",
   "metadata": {},
   "source": [
    "# TF-IDF"
   ]
  },
  {
   "cell_type": "code",
   "execution_count": 1,
   "metadata": {
    "collapsed": false
   },
   "outputs": [
    {
     "ename": "NameError",
     "evalue": "name 'PorterStemmer' is not defined",
     "output_type": "error",
     "traceback": [
      "\u001b[0;31m---------------------------------------------------------------------------\u001b[0m",
      "\u001b[0;31mNameError\u001b[0m                                 Traceback (most recent call last)",
      "\u001b[0;32m<ipython-input-1-d52b882ca46c>\u001b[0m in \u001b[0;36m<module>\u001b[0;34m()\u001b[0m\n\u001b[1;32m      1\u001b[0m \u001b[0mtoken_dict\u001b[0m \u001b[0;34m=\u001b[0m \u001b[0;34m{\u001b[0m\u001b[0;34m}\u001b[0m\u001b[0;34m\u001b[0m\u001b[0m\n\u001b[0;32m----> 2\u001b[0;31m \u001b[0mstemmer\u001b[0m \u001b[0;34m=\u001b[0m \u001b[0mPorterStemmer\u001b[0m\u001b[0;34m(\u001b[0m\u001b[0;34m)\u001b[0m\u001b[0;34m\u001b[0m\u001b[0m\n\u001b[0m\u001b[1;32m      3\u001b[0m \u001b[0;34m\u001b[0m\u001b[0m\n\u001b[1;32m      4\u001b[0m \u001b[0;32mdef\u001b[0m \u001b[0mstem_tokens\u001b[0m\u001b[0;34m(\u001b[0m\u001b[0mtokens\u001b[0m\u001b[0;34m,\u001b[0m \u001b[0mstemmer\u001b[0m\u001b[0;34m)\u001b[0m\u001b[0;34m:\u001b[0m\u001b[0;34m\u001b[0m\u001b[0m\n\u001b[1;32m      5\u001b[0m     \u001b[0mstemmed\u001b[0m \u001b[0;34m=\u001b[0m \u001b[0;34m[\u001b[0m\u001b[0;34m]\u001b[0m\u001b[0;34m\u001b[0m\u001b[0m\n",
      "\u001b[0;31mNameError\u001b[0m: name 'PorterStemmer' is not defined"
     ]
    }
   ],
   "source": [
    "token_dict = {}\n",
    "stemmer = PorterStemmer()\n",
    "\n",
    "def stem_tokens(tokens, stemmer):\n",
    "    stemmed = []\n",
    "    for item in tokens:\n",
    "        stemmed.append(stemmer.stem(item))\n",
    "    return stemmed\n",
    "\n",
    "def tokenize(text):\n",
    "    text = re.sub(r\"\\W\", \" \", text)\n",
    "    text = re.sub(r'\\d+', '', text)\n",
    "    tokens = nltk.word_tokenize(text)\n",
    "    filtered_words = [word for word in tokens if word not in stopwords.words('english')]\n",
    "    stems = stem_tokens(filtered_words, stemmer)\n",
    "    return stems\n",
    "\n",
    "for file in sorted(os.listdir()):\n",
    "    if ('txt' in file) & ('~' not in file) :\n",
    "        overview = open(file, 'r')\n",
    "        text = overview.read()\n",
    "        lowers = text.lower()\n",
    "        no_punctuation = lowers.translate(string.punctuation)\n",
    "        token_dict[file] = no_punctuation\n",
    "        print(file)\n",
    "\n",
    "token_dict = collections.OrderedDict(sorted(token_dict.items()))\n",
    "\n",
    "#this can take some time\n",
    "tfidf = TfidfVectorizer(tokenizer=tokenize, stop_words='english')\n",
    "tfs = tfidf.fit_transform(token_dict.values())"
   ]
  },
  {
   "cell_type": "code",
   "execution_count": 97,
   "metadata": {
    "collapsed": false
   },
   "outputs": [
    {
     "name": "stdout",
     "output_type": "stream",
     "text": [
      "0.784795452808\n",
      "0.802912839686\n",
      "0.398232791113\n",
      "0.130355871024\n",
      "0.0742526660162\n",
      "0.0362123565299\n",
      "0.118287650877\n",
      "0.14857331694\n"
     ]
    }
   ],
   "source": [
    "data = tfs.todense()\n",
    "i = 0\n",
    "j = 1\n",
    "change = []\n",
    "while j <= len(token_dict.keys()) - 1:\n",
    "    change.append(cosine(data[i,:], data[j,:]))\n",
    "    print(cosine(data[i,:], data[j,:]))\n",
    "    j += 1\n",
    "    i += 1    "
   ]
  },
  {
   "cell_type": "code",
   "execution_count": 190,
   "metadata": {
    "collapsed": false
   },
   "outputs": [
    {
     "name": "stdout",
     "output_type": "stream",
     "text": [
      "0 0.784795452808\n",
      "1 0.802912839686\n",
      "2 0.398232791113\n",
      "3 0.130355871024\n",
      "4 0.0742526660162\n",
      "5 0.0362123565299\n",
      "6 0.118287650877\n",
      "7 0.14857331694\n"
     ]
    },
    {
     "data": {
      "text/plain": [
       "<matplotlib.text.Text at 0x7f44e48d6438>"
      ]
     },
     "execution_count": 190,
     "metadata": {},
     "output_type": "execute_result"
    },
    {
     "data": {
      "image/png": "[encoded data removed]",
      "text/plain": [
       "<matplotlib.figure.Figure at 0x7f44e4eabeb8>"
      ]
     },
     "metadata": {},
     "output_type": "display_data"
    }
   ],
   "source": [
    "%matplotlib inline\n",
    "years = ['2008','2009','2010','2011','2012','2013','2014','2015']\n",
    "x_pos = np.arange(len(years))\n",
    "\n",
    "fig = plt.figure(figsize=(16, 8))  \n",
    "\n",
    "ax = plt.subplot(111)\n",
    "plt.bar(x_pos, change, align = 'center', color=\"#3F5D7D\")\n",
    "plt.xticks(x_pos, years)\n",
    "plt.ylabel(\"Cosine Distance\", size = 15)\n",
    "plt.xlabel(\"Years\", size = 15)\n",
    "plt.suptitle(\"Lexical Change on 10-K Reports:\", x = 0.307, y = 1.02, fontsize = 22, fontweight = 'bold')\n",
    "plt.title(\"\\n FORD Risk Factors\\n\", fontsize = 22, loc = 'left')\n",
    "plt.ylim([0,1])\n",
    "ax.spines['right'].set_visible(False)\n",
    "ax.spines['top'].set_visible(False)\n",
    "ax.yaxis.set_ticks_position('left')\n",
    "ax.xaxis.set_ticks_position('bottom')\n",
    "for i, v in enumerate(change):\n",
    "    ax.text(i - 0.1, v - 0.03, str(round(v,2)), color='white', fontweight='bold', size = 12)\n",
    "    print(i,v)\n",
    "fig.text(0.2,-0.01,''' The values in each bar represent the cosine distance in terms of lexical change between\n",
    "            the 10-K forms from the year represented by the bar and the previous.''', fontsize = 15)\n"
   ]
  },
  {
   "cell_type": "code",
   "execution_count": 192,
   "metadata": {
    "collapsed": false
   },
   "outputs": [
    {
     "name": "stdout",
     "output_type": "stream",
     "text": [
      "top words 2007\n",
      "['market', 'sport', 'share', 'result', 'vehicl', 'past', 'year', 'overcapac', 'declin', 'industri'] \n",
      "\n",
      "top words 2008\n",
      "['credit', 'disrupt', 'program', 'financ', 'fund', 'securit', 'abil', 'ford', 'major', 'govern'] \n",
      "\n",
      "top words 2009\n",
      "['market', 'servic', 'fuel', 'vehicl', 'result', 'factor', 'financi', 'grow', 'price', 'share'] \n",
      "\n",
      "top words 2010\n",
      "['unit', 'market', 'million', 'declin', 'year', 'share', 'sale', 'industri', 'volum', 'state'] \n",
      "\n",
      "['market', 'unit', 'vehicl', 'million', 'declin', 'share', 'sale', 'industri', 'result', 'profit'] \n",
      "\n",
      "['market', 'vehicl', 'unit', 'industri', 'sale', 'fuel', 'financi', 'result', 'profit', 'declin'] \n",
      "\n"
     ]
    }
   ],
   "source": [
    "feature_names = tfidf.get_feature_names()\n",
    "#np.sort(data[0,:], )\n",
    "top0_ind = np.array(np.ravel((-data[0,:]).argsort())[:10], dtype = int)\n",
    "top1_ind = np.array(np.ravel((-data[1,:]).argsort())[:10], dtype = int)\n",
    "top2_ind = np.array(np.ravel((-data[2,:]).argsort())[:10], dtype = int)\n",
    "top3_ind = np.array(np.ravel((-data[3,:]).argsort())[:10], dtype = int)\n",
    "print(\"top words 2007\")\n",
    "print([feature_names[i] for i in list(top0_ind)], \"\\n\")\n",
    "print(\"top words 2008\")\n",
    "print([feature_names[i] for i in list(top1_ind)], \"\\n\")\n",
    "print(\"top words 2009\")\n",
    "print([feature_names[i] for i in list(top2_ind)], \"\\n\")\n",
    "print(\"top words 2010\")\n",
    "print([feature_names[i] for i in list(top3_ind)], \"\\n\")\n",
    "\n",
    "top5_ind = np.array(np.ravel((-data[5,:]).argsort())[:10], dtype = int)\n",
    "top6_ind = np.array(np.ravel((-data[6,:]).argsort())[:10], dtype = int)\n",
    "print([feature_names[i] for i in list(top5_ind)], \"\\n\")\n",
    "print([feature_names[i] for i in list(top6_ind)], \"\\n\")"
   ]
  },
  {
   "cell_type": "markdown",
   "metadata": {},
   "source": [
    "\n",
    "\n",
    "\n",
    "\n",
    "\n",
    "\n",
    "\n",
    "\n",
    "\n",
    "# NON NEGATIVE MATRIX FACTORIZATION"
   ]
  },
  {
   "cell_type": "code",
   "execution_count": 201,
   "metadata": {
    "collapsed": false
   },
   "outputs": [],
   "source": [
    "#vectorizer = text.CountVectorizer(tokenizer=tokenize, stop_words='english')\n",
    "#dtm = vectorizer.fit_transform(token_dict.values()).toarray()\n",
    "\n",
    "num_topics = 4\n",
    "num_top_words = 20\n",
    "clf = decomposition.NMF(n_components=num_topics, random_state=1)"
   ]
  },
  {
   "cell_type": "code",
   "execution_count": 202,
   "metadata": {
    "collapsed": false
   },
   "outputs": [],
   "source": [
    "doctopic = clf.fit_transform(tfs)\n",
    "doctopic = doctopic / np.sum(doctopic, axis=1, keepdims=True)"
   ]
  },
  {
   "cell_type": "code",
   "execution_count": 203,
   "metadata": {
    "collapsed": false
   },
   "outputs": [
    {
     "name": "stdout",
     "output_type": "stream",
     "text": [
      "Topic 0: market,  unit,  million,  share,  declin,  sale,  industri,  vehicl,  volum,  year\n",
      "Topic 1: credit,  disrupt,  program,  financ,  fund,  securit,  abil,  ford,  major,  govern\n",
      "Topic 2: market,  fuel,  servic,  vehicl,  grow,  price,  result,  financi,  substanti,  factor\n",
      "Topic 3: market,  share,  sport,  result,  vehicl,  past,  overcapac,  industri,  year,  advers\n"
     ]
    }
   ],
   "source": [
    "H = clf.components_\n",
    "# topic_words = []\n",
    "\n",
    "# for topic_index in range( H.shape[0] ):\n",
    "#     top_indices = np.argsort( H[topic_index,:] )[::-1][0:10]\n",
    "#     term_ranking = [terms[i] for i in top_indices]\n",
    "#     print(topic_index, term_ranking )\n",
    "for topic_index in range(H.shape[0]):\n",
    "    top_indices = np.array(np.ravel((-H[topic_index,:]).argsort())[:10], dtype = int)\n",
    "    top_terms = [feature_names[i] for i in top_indices]\n",
    "    print(\"Topic %s: %s\" %(topic_index, \",  \".join(top_terms)))\n"
   ]
  },
  {
   "cell_type": "code",
   "execution_count": 204,
   "metadata": {
    "collapsed": false
   },
   "outputs": [
    {
     "name": "stdout",
     "output_type": "stream",
     "text": [
      "1.0\n",
      "1.0\n",
      "1.0\n",
      "0.0542912174252\n",
      "0.0123148034288\n",
      "0.0650991205193\n",
      "0.29141323929\n",
      "0.107778595964\n"
     ]
    }
   ],
   "source": [
    "i = 0\n",
    "j = 1\n",
    "change_topic = []\n",
    "while j <= len(token_dict.keys()) - 1:\n",
    "    change_topic.append(cosine(doctopic[i,:], doctopic[j,:]))\n",
    "    print(cosine(doctopic[i,:], doctopic[j,:]))\n",
    "    j += 1\n",
    "    i += 1    "
   ]
  },
  {
   "cell_type": "code",
   "execution_count": 2,
   "metadata": {
    "collapsed": false
   },
   "outputs": [
    {
     "ename": "NameError",
     "evalue": "name 'decomposition' is not defined",
     "output_type": "error",
     "traceback": [
      "\u001b[1;31m---------------------------------------------------------------------------\u001b[0m",
      "\u001b[1;31mNameError\u001b[0m                                 Traceback (most recent call last)",
      "\u001b[1;32m<ipython-input-2-fa4f861a7c8c>\u001b[0m in \u001b[0;36m<module>\u001b[1;34m()\u001b[0m\n\u001b[0;32m      3\u001b[0m \u001b[1;32mfor\u001b[0m \u001b[0mi\u001b[0m \u001b[1;32min\u001b[0m \u001b[0mtopics\u001b[0m\u001b[1;33m:\u001b[0m\u001b[1;33m\u001b[0m\u001b[0m\n\u001b[0;32m      4\u001b[0m     \u001b[0mnum_topics\u001b[0m \u001b[1;33m=\u001b[0m \u001b[0mi\u001b[0m\u001b[1;33m\u001b[0m\u001b[0m\n\u001b[1;32m----> 5\u001b[1;33m     \u001b[0mclf\u001b[0m \u001b[1;33m=\u001b[0m \u001b[0mdecomposition\u001b[0m\u001b[1;33m.\u001b[0m\u001b[0mNMF\u001b[0m\u001b[1;33m(\u001b[0m\u001b[0mn_components\u001b[0m\u001b[1;33m=\u001b[0m\u001b[0mnum_topics\u001b[0m\u001b[1;33m,\u001b[0m \u001b[0mrandom_state\u001b[0m\u001b[1;33m=\u001b[0m\u001b[1;36m1\u001b[0m\u001b[1;33m)\u001b[0m\u001b[1;33m\u001b[0m\u001b[0m\n\u001b[0m\u001b[0;32m      6\u001b[0m     \u001b[0mdoctopic\u001b[0m \u001b[1;33m=\u001b[0m \u001b[0mclf\u001b[0m\u001b[1;33m.\u001b[0m\u001b[0mfit_transform\u001b[0m\u001b[1;33m(\u001b[0m\u001b[0mtfs\u001b[0m\u001b[1;33m)\u001b[0m\u001b[1;33m\u001b[0m\u001b[0m\n\u001b[0;32m      7\u001b[0m     \u001b[0mdoctopic\u001b[0m \u001b[1;33m=\u001b[0m \u001b[0mdoctopic\u001b[0m \u001b[1;33m/\u001b[0m \u001b[0mnp\u001b[0m\u001b[1;33m.\u001b[0m\u001b[0msum\u001b[0m\u001b[1;33m(\u001b[0m\u001b[0mdoctopic\u001b[0m\u001b[1;33m,\u001b[0m \u001b[0maxis\u001b[0m\u001b[1;33m=\u001b[0m\u001b[1;36m1\u001b[0m\u001b[1;33m,\u001b[0m \u001b[0mkeepdims\u001b[0m\u001b[1;33m=\u001b[0m\u001b[1;32mTrue\u001b[0m\u001b[1;33m)\u001b[0m\u001b[1;33m\u001b[0m\u001b[0m\n",
      "\u001b[1;31mNameError\u001b[0m: name 'decomposition' is not defined"
     ]
    }
   ],
   "source": [
    "all_topics = {}\n",
    "topics = [2,6,10]\n",
    "for i in topics:\n",
    "    num_topics = i\n",
    "    clf = decomposition.NMF(n_components=num_topics, random_state=1)\n",
    "    doctopic = clf.fit_transform(tfs)\n",
    "    doctopic = doctopic / np.sum(doctopic, axis=1, keepdims=True)\n",
    "    i = 0\n",
    "    j = 1\n",
    "    change_topic = []\n",
    "    while j <= len(token_dict.keys()) - 1:\n",
    "        change_topic.append(cosine(doctopic[i,:], doctopic[j,:]))\n",
    "        print(cosine(doctopic[i,:], doctopic[j,:]))\n",
    "        j += 1\n",
    "        i += 1    \n",
    "    all_topics[str(i)] = change_topic"
   ]
  },
  {
   "cell_type": "code",
   "execution_count": 205,
   "metadata": {
    "collapsed": false
   },
   "outputs": [
    {
     "name": "stdout",
     "output_type": "stream",
     "text": [
      "0 1.0\n",
      "1 1.0\n",
      "2 1.0\n",
      "3 0.0542912174252\n",
      "4 0.0123148034288\n",
      "5 0.0650991205193\n",
      "6 0.29141323929\n",
      "7 0.107778595964\n"
     ]
    },
    {
     "data": {
      "text/plain": [
       "<matplotlib.text.Text at 0x7f44e4741a20>"
      ]
     },
     "execution_count": 205,
     "metadata": {},
     "output_type": "execute_result"
    },
    {
     "data": {
      "image/png": "[encoded data removed]",
      "text/plain": [
       "<matplotlib.figure.Figure at 0x7f44e49e77f0>"
      ]
     },
     "metadata": {},
     "output_type": "display_data"
    }
   ],
   "source": [
    "%matplotlib inline\n",
    "years = ['2008','2009','2010','2011','2012','2013','2014','2015']\n",
    "x_pos = np.arange(len(years))\n",
    "\n",
    "fig = plt.figure(figsize=(16, 8))  \n",
    "\n",
    "ax = plt.subplot(111)\n",
    "plt.bar(x_pos, change_topic, align = 'center', color=\"#3F5D7D\")\n",
    "plt.xticks(x_pos, years)\n",
    "plt.ylabel(\"Cosine Distance\", size = 15)\n",
    "plt.xlabel(\"Years\", size = 15)\n",
    "plt.suptitle(\"Topic Change on 10-K Reports:\", x = 0.29, y = 1.02, fontsize = 22, fontweight = 'bold')\n",
    "plt.title(\"Risk Factors Change: FORD \\n\", fontsize = 22, loc = 'left')\n",
    "plt.ylim([0,1])\n",
    "ax.spines['right'].set_visible(False)\n",
    "ax.spines['top'].set_visible(False)\n",
    "ax.yaxis.set_ticks_position('left')\n",
    "ax.xaxis.set_ticks_position('bottom')\n",
    "\n",
    "for i, v in enumerate(change_topic):\n",
    "    ax.text(i - 0.1, v - 0.03, str(round(v,2)), color='white', fontweight='bold', size = 12)\n",
    "    print(i,v)\n",
    "fig.text(0.2,-0.01,''' The values in each bar represent the cosine distance in terms of topic change between\n",
    "            the 10-K forms from the year represented by the bar and the previous.''', fontsize = 15)\n",
    "\n"
   ]
  },
  {
   "cell_type": "code",
   "execution_count": null,
   "metadata": {
    "collapsed": false
   },
   "outputs": [],
   "source": []
  },
  {
   "cell_type": "code",
   "execution_count": null,
   "metadata": {
    "collapsed": true
   },
   "outputs": [],
   "source": []
  },
  {
   "cell_type": "code",
   "execution_count": null,
   "metadata": {
    "collapsed": true
   },
   "outputs": [],
   "source": []
  },
  {
   "cell_type": "code",
   "execution_count": null,
   "metadata": {
    "collapsed": true
   },
   "outputs": [],
   "source": []
  }
 ],
 "metadata": {
  "kernelspec": {
   "display_name": "Python 3",
   "language": "python",
   "name": "python3"
  },
  "language_info": {
   "codemirror_mode": {
    "name": "ipython",
    "version": 3
   },
   "file_extension": ".py",
   "mimetype": "text/x-python",
   "name": "python",
   "nbconvert_exporter": "python",
   "pygments_lexer": "ipython3",
   "version": "3.5.2"
  }
 },
 "nbformat": 4,
 "nbformat_minor": 0
}
